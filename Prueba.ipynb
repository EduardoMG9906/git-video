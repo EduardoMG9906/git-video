{
  "nbformat": 4,
  "nbformat_minor": 0,
  "metadata": {
    "colab": {
      "name": "Prueba",
      "provenance": [],
      "mount_file_id": "1g-izPVuKIdOi0YXvWKDIjcO45m8BdI3-",
      "authorship_tag": "ABX9TyP/+jAoB2CsZx/w8n8rOi0c",
      "include_colab_link": true
    },
    "kernelspec": {
      "name": "python3",
      "display_name": "Python 3"
    }
  },
  "cells": [
    {
      "cell_type": "markdown",
      "metadata": {
        "id": "view-in-github",
        "colab_type": "text"
      },
      "source": [
        "<a href=\"https://colab.research.google.com/github/EduardoMG9906/git-video/blob/master/Prueba.ipynb\" target=\"_parent\"><img src=\"https://colab.research.google.com/assets/colab-badge.svg\" alt=\"Open In Colab\"/></a>"
      ]
    },
    {
      "cell_type": "code",
      "metadata": {
        "colab": {
          "base_uri": "https://localhost:8080/"
        },
        "id": "xvi1wS2i1US2",
        "outputId": "ce5b736f-606a-4946-a47f-bd1ee9f4f834"
      },
      "source": [
        "from google.colab import drive\r\n",
        "drive.mount('/content/drive')\r\n"
      ],
      "execution_count": 26,
      "outputs": [
        {
          "output_type": "stream",
          "text": [
            "Drive already mounted at /content/drive; to attempt to forcibly remount, call drive.mount(\"/content/drive\", force_remount=True).\n"
          ],
          "name": "stdout"
        }
      ]
    },
    {
      "cell_type": "code",
      "metadata": {
        "colab": {
          "base_uri": "https://localhost:8080/"
        },
        "id": "FFuOdGC82zXh",
        "outputId": "696e9620-1a44-4ceb-f397-3245e839e146"
      },
      "source": [
        "%cd /content/drive/MyDrive/Prueba_github"
      ],
      "execution_count": 27,
      "outputs": [
        {
          "output_type": "stream",
          "text": [
            "/content/drive/MyDrive/Prueba_github\n"
          ],
          "name": "stdout"
        }
      ]
    },
    {
      "cell_type": "code",
      "metadata": {
        "colab": {
          "base_uri": "https://localhost:8080/"
        },
        "id": "pTsmcdFP2_wx",
        "outputId": "6a8c61d3-3b76-4897-e915-e7190c8d7404"
      },
      "source": [
        "!git init "
      ],
      "execution_count": 28,
      "outputs": [
        {
          "output_type": "stream",
          "text": [
            "Reinitialized existing Git repository in /content/drive/MyDrive/Prueba_github/.git/\n"
          ],
          "name": "stdout"
        }
      ]
    },
    {
      "cell_type": "code",
      "metadata": {
        "colab": {
          "base_uri": "https://localhost:8080/"
        },
        "id": "aC665Npu3D8g",
        "outputId": "3418afae-6565-40cc-ff21-01135c49f3df"
      },
      "source": [
        "!git status"
      ],
      "execution_count": 29,
      "outputs": [
        {
          "output_type": "stream",
          "text": [
            "On branch master\n",
            "nothing to commit, working tree clean\n"
          ],
          "name": "stdout"
        }
      ]
    },
    {
      "cell_type": "code",
      "metadata": {
        "id": "CuJDZZyy3HEh"
      },
      "source": [
        "!git add Github.txt"
      ],
      "execution_count": 30,
      "outputs": []
    },
    {
      "cell_type": "code",
      "metadata": {
        "colab": {
          "base_uri": "https://localhost:8080/"
        },
        "id": "h5ttTgKx3Qti",
        "outputId": "aacdcc3e-1382-4348-884c-f633a3033224"
      },
      "source": [
        "!git status"
      ],
      "execution_count": 8,
      "outputs": [
        {
          "output_type": "stream",
          "text": [
            "On branch master\n",
            "\n",
            "No commits yet\n",
            "\n",
            "Changes to be committed:\n",
            "  (use \"git rm --cached <file>...\" to unstage)\n",
            "\n",
            "\t\u001b[32mnew file:   Github.txt\u001b[m\n",
            "\n"
          ],
          "name": "stdout"
        }
      ]
    },
    {
      "cell_type": "code",
      "metadata": {
        "id": "YzpyirI93Wlp"
      },
      "source": [
        "!git config --global user.email \"eduardoguevara9906@gmail.com\"\r\n",
        "!git config --global user.name \"Estu9906\""
      ],
      "execution_count": 11,
      "outputs": []
    },
    {
      "cell_type": "code",
      "metadata": {
        "colab": {
          "base_uri": "https://localhost:8080/"
        },
        "id": "QFuaYATt3pAL",
        "outputId": "3fee9efb-9f33-487e-e904-5ad9deabf9f8"
      },
      "source": [
        "!git commit -m \"Prueba con colab\""
      ],
      "execution_count": 19,
      "outputs": [
        {
          "output_type": "stream",
          "text": [
            "On branch master\n",
            "nothing to commit, working tree clean\n"
          ],
          "name": "stdout"
        }
      ]
    },
    {
      "cell_type": "code",
      "metadata": {
        "colab": {
          "base_uri": "https://localhost:8080/"
        },
        "id": "kWY1nlGN677x",
        "outputId": "e809ce47-c3ee-4630-b99f-dc0f28285175"
      },
      "source": [
        "!git remote add origin \"git@github.com:Estu9906/Mifay.git\""
      ],
      "execution_count": 20,
      "outputs": [
        {
          "output_type": "stream",
          "text": [
            "fatal: remote origin already exists.\n"
          ],
          "name": "stdout"
        }
      ]
    },
    {
      "cell_type": "code",
      "metadata": {
        "colab": {
          "base_uri": "https://localhost:8080/"
        },
        "id": "civo6WFy7RZY",
        "outputId": "c82ed4a0-c949-455b-826a-402a4c7029ca"
      },
      "source": [
        "!git remote set-url"
      ],
      "execution_count": 24,
      "outputs": [
        {
          "output_type": "stream",
          "text": [
            "usage: git remote set-url [--push] <name> <newurl> [<oldurl>]\n",
            "   or: git remote set-url --add <name> <newurl>\n",
            "   or: git remote set-url --delete <name> <url>\n",
            "\n",
            "    --push                manipulate push URLs\n",
            "    --add                 add URL\n",
            "    --delete              delete URLs\n",
            "\n"
          ],
          "name": "stdout"
        }
      ]
    },
    {
      "cell_type": "code",
      "metadata": {
        "colab": {
          "base_uri": "https://localhost:8080/"
        },
        "id": "RQc1841x7JjA",
        "outputId": "2d78a751-b964-4825-cdb9-cb99dd205401"
      },
      "source": [
        "!git push -u origin master"
      ],
      "execution_count": 21,
      "outputs": [
        {
          "output_type": "stream",
          "text": [
            "fatal: could not read Username for 'https://github.com': No such device or address\n"
          ],
          "name": "stdout"
        }
      ]
    }
  ]
}