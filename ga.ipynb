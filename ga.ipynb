{
  "nbformat": 4,
  "nbformat_minor": 0,
  "metadata": {
    "colab": {
      "name": "ga.ipynb",
      "provenance": [],
      "authorship_tag": "ABX9TyPWOU9bLO8f+G/O95/Lx2jk",
      "include_colab_link": true
    },
    "kernelspec": {
      "name": "python3",
      "display_name": "Python 3"
    }
  },
  "cells": [
    {
      "cell_type": "markdown",
      "metadata": {
        "id": "view-in-github",
        "colab_type": "text"
      },
      "source": [
        "<a href=\"https://colab.research.google.com/github/Estu9906/git-video/blob/master/ga.ipynb\" target=\"_parent\"><img src=\"https://colab.research.google.com/assets/colab-badge.svg\" alt=\"Open In Colab\"/></a>"
      ]
    },
    {
      "cell_type": "code",
      "metadata": {
        "colab": {
          "base_uri": "https://localhost:8080/"
        },
        "id": "f-17HZOg-jgb",
        "outputId": "4704530a-0d7a-4f54-f36f-fe6484fd574a"
      },
      "source": [
        "print(\"hola mundo\")"
      ],
      "execution_count": 1,
      "outputs": [
        {
          "output_type": "stream",
          "text": [
            "hola mundo\n"
          ],
          "name": "stdout"
        }
      ]
    }
  ]
}